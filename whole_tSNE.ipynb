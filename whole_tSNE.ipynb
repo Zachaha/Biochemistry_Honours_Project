{
 "cells": [
  {
   "cell_type": "code",
   "execution_count": null,
   "metadata": {},
   "outputs": [],
   "source": [
    "import numpy as np\n",
    "import pandas as pd\n",
    "import matplotlib.pyplot as plt\n",
    "from matplotlib.patches import Patch\n",
    "from sklearn.manifold import TSNE\n",
    "from sklearn.preprocessing import MinMaxScaler\n",
    "import random\n"
   ]
  },
  {
   "cell_type": "code",
   "execution_count": null,
   "metadata": {},
   "outputs": [],
   "source": [
    "\n",
    "def scatter_hist(x, y, ax, ax_histx, ax_histy, color):\n",
    "    ax.tick_params(axis='x', which='major', labelsize=20)  # Change 20 to your desired font size for x-axis ticks\n",
    "    ax.tick_params(axis='y', which='major', labelsize=20)  # Change 20 to your desired font size for y-axis ticks\n",
    "   # no labels\n",
    "    ax_histx.tick_params(axis=\"x\", labelbottom=False)\n",
    "    ax_histy.tick_params(axis=\"y\", labelleft=False)\n",
    "\n",
    "    # the scatter plot:\n",
    "    ax.scatter(x, y, c=color, alpha=0.5)\n",
    "    \n",
    "    # now determine nice limits by hand:\n",
    "    binwidth = 0.25\n",
    "\n",
    "    bins_x = np.linspace(min(x), max(x), 200)\n",
    "    bins_y = np.linspace(min(y), max(y),200)\n",
    "\n",
    "    ax_histx.tick_params(axis='x', which='major', labelbottom=False)\n",
    "    ax_histx.tick_params(axis='y', which='major',labelsize=20)\n",
    "    \n",
    "    ax_histy.tick_params(axis='y', which='major', labelleft=False)\n",
    "    ax_histy.tick_params(axis='x', which='major', labelsize=20,rotation =270)\n",
    "    \n",
    "    ax_histx.hist(x, bins=bins_x, color=color, alpha=0.7, edgecolor='none')\n",
    "    ax_histy.hist(y, bins=bins_y, orientation='horizontal', color=color, alpha=0.7, edgecolor='none')\n"
   ]
  },
  {
   "cell_type": "code",
   "execution_count": null,
   "metadata": {
    "scrolled": true
   },
   "outputs": [],
   "source": [
    "wholedata = pd.read_csv('wholedata_pdb_af2.csv')\n",
    "wholedata. reset_index(drop = True, inplace = True)\n",
    "wholedata = wholedata.iloc[:, 1:]\n",
    "wholedata. drop(['label_1', 'label_2'],axis=1, inplace =True)\n",
    "wholedata.columns = [\n",
    "       'ss_prop_hbonded_turn', 'ss_prop_bend', 'ss_prop_loop',\n",
    "       'hydrophobic_fitness', 'isoelectric_point', 'charge', 'packing_density',\n",
    "       'evoef2_total', 'evoef2_intraR_total', 'rosetta_total',\n",
    "       'rosetta_fa_intra_rep', 'rosetta_fa_elec', 'rosetta_fa_sol',\n",
    "       'rosetta_lk_ball_wtd', 'rosetta_fa_intra_sol_xover4',\n",
    "       'rosetta_hbond_bb_sc', 'rosetta_hbond_sc', 'rosetta_rama_prepro',\n",
    "       'rosetta_p_aa_pp', 'rosetta_fa_dun', 'rosetta_omega',\n",
    "       'rosetta_pro_close', 'aggrescan3d_avg_value', 'aggrescan3d_max_value']\n",
    "\n",
    "wholedata_2 =  pd.read_csv('wholedata_pdb_af2.csv')\n",
    "\n",
    "wholedata_name = pd.read_csv('wholedata_with_name.csv',index_col=0) \n",
    "wholedata_name.drop(columns=['design_name', 'file_name', 'full_sequence', 'dssp_assignment',\n",
    "       'ss_prop_hbonded_turn', 'ss_prop_bend', 'ss_prop_loop',\n",
    "       'hydrophobic_fitness', 'isoelectric_point', 'charge', 'mass',\n",
    "       'num_residues', 'packing_density', 'evoef2_total', 'evoef2_ref_total',\n",
    "       'evoef2_intraR_total', 'evoef2_interS_total', 'evoef2_interD_total',\n",
    "       'rosetta_total', 'rosetta_fa_atr', 'rosetta_fa_rep',\n",
    "       'rosetta_fa_intra_rep', 'rosetta_fa_elec', 'rosetta_fa_sol',\n",
    "       'rosetta_lk_ball_wtd', 'rosetta_fa_intra_sol_xover4',\n",
    "       'rosetta_hbond_lr_bb', 'rosetta_hbond_sr_bb', 'rosetta_hbond_bb_sc',\n",
    "       'rosetta_hbond_sc', 'rosetta_dslf_fa13', 'rosetta_rama_prepro',\n",
    "       'rosetta_p_aa_pp', 'rosetta_fa_dun', 'rosetta_omega',\n",
    "       'rosetta_pro_close', 'rosetta_yhh_planarity', 'aggrescan3d_total_value',\n",
    "       'aggrescan3d_avg_value', 'aggrescan3d_min_value',\n",
    "       'aggrescan3d_max_value'],inplace=True)\n",
    "\n",
    "\n",
    "reduced_data_df = pd.read_csv ('50_tSNE_reduced_data.csv', index_col = 0)\n",
    "reduced_data_wto_ss = pd.read_csv ('tSNE_reduced_data_without_ss.csv', index_col = 0)\n",
    "\n",
    "wholedata_name_copy = pd.read_csv ('wholedata_4label.csv', index_col = 0)"
   ]
  },
  {
   "cell_type": "code",
   "execution_count": null,
   "metadata": {},
   "outputs": [],
   "source": [
    "sample3_result = pd.read_csv('/Users/Zachary/Desktop/Dissertation/CLEAN/app/results/same_test_3_maxsep.csv')\n",
    "wholedata_label = pd.read_csv('./core_database/destress_wholedata_labelled_as_rd.csv')"
   ]
  },
  {
   "cell_type": "code",
   "execution_count": null,
   "metadata": {},
   "outputs": [],
   "source": [
    "\n",
    "# Read CSV files\n",
    "sample3_result = pd.read_csv('/Users/Zachary/Desktop/Dissertation/CLEAN/app/results/same_test_3_maxsep.csv')\n",
    "wholedata_label = pd.read_csv('./core_database/destress_wholedata_labelled_as_rd.csv')\n",
    "\n",
    "# Select columns and process 'CATH number 1'\n",
    "sample3_result = sample3_result[['Entry', 'CATH number 1']]\n",
    "sample3_result['CATH number 1'] = sample3_result['CATH number 1'].str[3:4]\n",
    "sample3_result.dropna(inplace=True)\n",
    "\n",
    "# Merge DataFrames\n",
    "sample_labelling = wholedata_label.merge(sample3_result, on='Entry', how='left')\n",
    "\n",
    "\n",
    "\n",
    "test_500 = sample_labelling[['Entry','label_3','CATH number 1']]\n",
    "test_500['label_4'] = test_500['label_3'].str[:1]\n",
    "test_500.dropna(inplace=True)\n",
    "test_500['Different'] = test_500['label_4'].astype(int) == test_500['CATH number 1'].astype(int)\n",
    "\n",
    "# Filter rows where the 'Different' column is False\n",
    "false_rows = test_500[test_500['Different'] == False]\n",
    "false_rows"
   ]
  },
  {
   "cell_type": "code",
   "execution_count": null,
   "metadata": {
    "scrolled": true
   },
   "outputs": [],
   "source": [
    "from matplotlib.patches import Patch\n",
    "reduced_data_df_num = pd.read_csv ('./reduced_data/tSNE_reduced_data_wt_ss.csv' )\n",
    "finalDf = pd.concat([reduced_data_df_num, z], axis = 1)\n",
    "finalDf.dropna(inplace =True)\n",
    "\n",
    "fig = plt.figure(figsize=(35, 35))\n",
    "ax = fig.add_subplot(1, 1, 1)\n",
    "\n",
    "ax.set_xlabel('t-SNE 1', fontsize=20)\n",
    "ax.set_ylabel('t-SNE 2', fontsize=20)\n",
    "ax.set_title('t-SNE analysis results (with 2nd structure indexes)  labeled with structural category', fontsize=35)\n",
    "ax.set_xticks(np.arange(-150, 150, 5))\n",
    "ax.set_yticks(np.arange(-150, 150, 5))\n",
    "\n",
    "targets = ['1','2','3','4','6']#[1.0, 2.0, 3.0, 4.0, 5.0, 6.0]\n",
    "colors = ['#4575b4',  '#fee090', '#e0f3f8', '#fc8d59', '#d73027']\n",
    "for target, color in zip(targets, colors):\n",
    "    indicesToKeep = finalDf['CATH number 1'] == target\n",
    "    ax.scatter(finalDf.loc[indicesToKeep, 'Dimension 1'],\n",
    "               finalDf.loc[indicesToKeep, 'Dimension 2'],\n",
    "               c=color,\n",
    "               s=50,\n",
    "               alpha=1)\n",
    "ax.grid()\n",
    "# Create custom legend handles\n",
    "legend_handles = [Patch(facecolor=color, edgecolor=color, label=str(target), linewidth=1, alpha=0.8) for target, color in zip(targets, colors)]\n",
    "\n",
    "# Add the custom legend to the plot\n",
    "ax.legend(handles=legend_handles, prop={'size': 30})\n",
    "#plt.savefig('./figures/dimension_reduction/t-SNE result with really ss indexes labeled by CATH.png', dpi=300)\n",
    "    "
   ]
  },
  {
   "cell_type": "markdown",
   "metadata": {},
   "source": [
    "Merge the CATH ID with the wholedata_name dataframe"
   ]
  },
  {
   "cell_type": "code",
   "execution_count": null,
   "metadata": {},
   "outputs": [],
   "source": [
    "#Prepare the AF2 cath_data\n",
    "cath_data_af2 = pd.read_csv ('/Users/Zachary/Desktop/Dissertation/CATH/cath-v4_3_0.alphafold-v2.2022-11-22.tsv',sep='\\t+',index_col=0)\n",
    "cath_data_af2.drop(columns = ['source','length','class','assignment',\n",
    "                            'pLDDT','LUR','SSEs','perc_not_in_SS',\n",
    "                            'packing'],inplace = True)\n",
    "\n",
    "cath_data_af2.reset_index(inplace=True)\n",
    "cath_data_af2['ID'] = cath_data_af2['domain_ID'].apply(lambda x: x.split('_')[1])\n",
    "cath_data_af2.drop(columns= ['domain_ID'],inplace=True)"
   ]
  },
  {
   "cell_type": "code",
   "execution_count": null,
   "metadata": {},
   "outputs": [],
   "source": [
    "#Prepare the PDB CATH_data\n",
    "# Read the text file into a pandas DataFrame\n",
    "cath_data_pdb = pd.read_csv('/Users/Zachary/Desktop/Dissertation/CATH/CATH_daily_snapshot/cath-b-newest-all.txt', sep=' ',header = 0)\n",
    "# Assign column names to the DataFrame\n",
    "cath_data_pdb.columns = [\"CATH domain name\", 'version',\"CATH num\",'frag:chain']\n",
    "cath_data_pdb.drop(columns= ['version','frag:chain'], inplace =True)\n",
    "cath_data_pdb['ID'] = cath_data_pdb['CATH domain name'].str[:-3]\n",
    "\n",
    "cathnum_unique = ~cath_data_pdb.copy().duplicated(subset = 'CATH num',keep = False)\n",
    "unique_cath = cath_data_pdb[cathnum_unique]\n",
    "filtered_cath = unique_cath.drop_duplicates(subset = 'ID',keep = 'first')\n",
    "\n",
    "#将filter_cath从cath中删除后，剩下的行即便有着重复的PDBID，但他们的PDB ID也相同 (去掉了2462行)\n",
    "filtered_pdbid = filtered_cath['ID'].unique()\n",
    "rows_to_keep = ~cath_data_pdb['ID'].isin(filtered_pdbid)\n",
    "cath_data_pdb = cath_data_pdb[rows_to_keep]\n",
    "\n",
    "#在此之后，我们就可以去掉重复的PDB ID，将两个dataframe合并 （现在有139436行）\n",
    "cath_data_pdb.drop_duplicates(subset = 'ID',keep = 'first',inplace = True)\n",
    "cath_data_pdb.reset_index(drop = True, inplace = True)\n",
    "cath_data_pdb.drop(columns= ['CATH domain name'], inplace =True)\n",
    "cath_data_pdb['ID'] = cath_data_pdb['ID'].str.upper()"
   ]
  },
  {
   "cell_type": "code",
   "execution_count": null,
   "metadata": {},
   "outputs": [],
   "source": [
    "# Merge wholedata_name with cath_data_af2\n",
    "wholedata_name_copy = wholedata_name.copy()\n",
    "cath_data_af2_unique = cath_data_af2.drop_duplicates(subset='ID')\n",
    "cath_data_pdb_unique = cath_data_pdb.drop_duplicates(subset='ID')\n",
    "wholedata_name_copy = wholedata_name_copy.merge(cath_data_af2_unique[['ID', 'sfam_id','organism']],\n",
    "                                                 left_on='UniProt_ID', right_on='ID', how='left')\n",
    "wholedata_name_copy = wholedata_name_copy.merge(cath_data_pdb_unique[['ID', 'CATH num']],\n",
    "                                left_on='UniProt_ID', right_on='ID', how='left', \n",
    "                                suffixes=('_af2', '_pdb'))\n",
    "wholedata_name_copy['label_3']=wholedata_name_copy['sfam_id'].fillna(wholedata_name_copy['CATH num'])\n",
    "wholedata_name_copy.drop (columns = ['ID_af2','ID_pdb','sfam_id','CATH num'], inplace = True)"
   ]
  },
  {
   "cell_type": "code",
   "execution_count": null,
   "metadata": {},
   "outputs": [],
   "source": [
    "wholedata_name_copy['label_4'] = wholedata_name_copy['label_3'].str[:1]\n",
    "wholedata_name_copy.to_csv ('wholedata_4label.csv')"
   ]
  },
  {
   "cell_type": "markdown",
   "metadata": {},
   "source": [
    "t-SNE with ss_prop"
   ]
  },
  {
   "cell_type": "code",
   "execution_count": null,
   "metadata": {},
   "outputs": [],
   "source": [
    "wholedata_num = pd.read_csv('./core_database/prepared_dimension_reduction_data.csv')"
   ]
  },
  {
   "cell_type": "code",
   "execution_count": null,
   "metadata": {},
   "outputs": [],
   "source": [
    "wholedata_label = pd.read_csv('./core_database/destress_wholedata_labelled_as_rd.csv')"
   ]
  },
  {
   "cell_type": "code",
   "execution_count": null,
   "metadata": {},
   "outputs": [],
   "source": [
    "a =  pd.read_csv('/Users/Zachary/Downloads/af2_CLEAN.csv',sep='\\t')\n",
    "b=a.copy()"
   ]
  },
  {
   "cell_type": "code",
   "execution_count": null,
   "metadata": {
    "collapsed": true
   },
   "outputs": [],
   "source": [
    "# Choose the number of dimensions you want to reduce your data to (usually 2 or 3)\n",
    "target_dimensions = 2\n",
    "perplexity_value = 50\n",
    "\n",
    "wholedata_num = MinMaxScaler().fit_transform(wholedata_num)\n",
    "\n",
    "# Create a t-SNE object with the desired parameters\n",
    "tsne_num = TSNE(n_components=target_dimensions, perplexity=perplexity_value, random_state=42)\n",
    "\n",
    "# Fit the t-SNE model on the data and transform it\n",
    "reduced_data_num = tsne_num.fit_transform(wholedata_num)\n",
    "\n",
    "reduced_data_df_num = pd. DataFrame (reduced_data_num, columns = ['Dimension 1','Dimension 2'])\n",
    "reduced_data_df_num.to_csv ('./reduced_data/tSNE_reduced_data_wt_ss.csv',index = False)"
   ]
  },
  {
   "cell_type": "code",
   "execution_count": null,
   "metadata": {},
   "outputs": [],
   "source": [
    "from matplotlib.patches import Patch\n",
    "from matplotlib.patches import Circle\n",
    "reduced_data_df_num = pd.read_csv ('./reduced_data/tSNE_reduced_data_wt_ss.csv' )\n",
    "z =wholedata_label.loc[:,['label_1','label_2']]\n",
    "z.reset_index(drop=True, inplace=True)\n",
    "finalDf = pd.concat([reduced_data_df_num, z], axis = 1)"
   ]
  },
  {
   "cell_type": "code",
   "execution_count": null,
   "metadata": {},
   "outputs": [],
   "source": [
    "# Start with a square Figure.\n",
    "fig = plt.figure(figsize=(30, 30))\n",
    "\n",
    "# Add a gridspec with two rows and two columns and a ratio of 1 to 4 between\n",
    "# the size of the marginal axes and the main axes in both directions.\n",
    "# Also adjust the subplot parameters for a square plot.\n",
    "gs = fig.add_gridspec(2, 2,  width_ratios=(5, 1), height_ratios=(1, 5),\n",
    "                      left=0.1, right=0.9, bottom=0.1, top=0.9,\n",
    "                      wspace=0.05, hspace=0.05)\n",
    "\n",
    "# Create the Axes.\n",
    "ax = fig.add_subplot(gs[1, 0])\n",
    "\n",
    "\n",
    "# Set tick label size for the scatter plot\n",
    "ax.tick_params(axis='both', which='major', labelsize=20)\n",
    "\n",
    "ax_histx = fig.add_subplot(gs[0, 0], sharex=ax)\n",
    "ax_histy = fig.add_subplot(gs[1, 1], sharey=ax)\n",
    "\n",
    "# Set axis labels\n",
    "ax.set_xlabel('t-SNE 1', fontsize = 35)\n",
    "ax.set_ylabel('t-SNE 2', fontsize = 35)\n",
    "fig.suptitle('2 component t-SNE of DE-STRESS database', fontsize = 55, y=0.93)\n",
    "\n",
    "targets = ['AF2', 'PDB', 'Pisces']\n",
    "colors = ['#D5D6BF', '#B87C1B', '#6279A2']\n",
    "data_by_target = {target: finalDf[(finalDf['label_1'] == target) | (finalDf['label_2'] == target)] for target in targets}\n",
    "\n",
    "for target, color in zip(targets, colors):\n",
    "    x_data = data_by_target[target]['Dimension 1'].values\n",
    "    y_data = data_by_target[target]['Dimension 2'].values\n",
    "    scatter_hist(x_data, y_data, ax, ax_histx, ax_histy, color=color)\n",
    "\n",
    "# Create custom legend handles\n",
    "legend_handles = [Patch(facecolor=color, edgecolor=color, label=str(target), linewidth=1, alpha=0.8) for target, color in zip(targets, colors)]\n",
    "ax.legend(handles=legend_handles, prop={'size': 50})\n",
    "\n",
    "ax.grid()\n",
    "plt.savefig('./figures/dimension_reduction/t_SNE_.png',dpi=300)\n",
    "plt.show()"
   ]
  },
  {
   "cell_type": "code",
   "execution_count": null,
   "metadata": {},
   "outputs": [],
   "source": [
    "fig = plt.figure(figsize = (20,20))\n",
    "ax = fig.add_subplot(1,1,1) \n",
    "\n",
    "ax.set_xlabel('t-SNE 1', fontsize = 20)\n",
    "ax.set_ylabel('t-SNE 2', fontsize = 20)\n",
    "ax.set_title('2 component t-SNE of DE-STRESS database', fontsize = 30)\n",
    "ax.set_xticks(np.arange(-130, 130, 20))\n",
    "ax.set_yticks(np.arange(-130, 130, 20))\n",
    "\n",
    "targets = ['AF2', 'PDB', 'Pisces']\n",
    "colors = [  '#D5D6BF','#B87C1B','#6279A2']\n",
    "\n",
    "for target, color in zip(targets,colors):\n",
    "    indicesToKeep = (finalDf['label_1'] == target) | (finalDf['label_2'] == target)\n",
    "    ax.scatter(finalDf.loc[indicesToKeep, 'Dimension 1' ]\n",
    "               , finalDf.loc[indicesToKeep, 'Dimension 2']\n",
    "               , c = color\n",
    "               , s = 5\n",
    "               , alpha=0.8)\n",
    "    \n",
    "legend_handles = [Patch(facecolor=color, edgecolor=color, label=str(target), linewidth=1, alpha=0.8) for target, color in zip(targets, colors)]\n",
    "\n",
    "ax.legend(handles=legend_handles, prop={'size': 30})\n",
    "regions = [\n",
    "    {'center': (2, 17), 'radius':  5,'label': 2},\n",
    "    {'center': (85, 73.5), 'radius':  5,'label': 1},\n",
    "    {'center': (48, -12), 'radius':  5,'label': 3},\n",
    "    {'center': (11, -109), 'radius':  2,'label': 4},\n",
    "    {'center': (21.5, -111), 'radius':  1.5,'label': 5},\n",
    "    {'center': (33, -105.5), 'radius':  1.5,'label': 6},\n",
    "    \n",
    "    \n",
    "    \n",
    "    #{'center': (0.4, 0), 'radius':  0.05,   'label': 6},\n",
    "    #{'center': (0.72, 0), 'radius':  0.05,   'label': 7},\n",
    "]\n",
    "\n",
    "for region in regions:\n",
    "    circle = Circle(region['center'], region['radius'], edgecolor='red',\n",
    "                    facecolor='none', linewidth=2)\n",
    "    ax.add_patch(circle)\n",
    "    label_x = region['center'][0] + region['radius'] + 0.01  # Adjust the '5' for the desired offset\n",
    "    label_y = region['center'][1]\n",
    "    ax.annotate(str(region['label']), (label_x, label_y), fontsize=40, weight='bold', ha='left', va='center')\n",
    "\n",
    "# Display the plot\n",
    "\n",
    "# Add the custom legend to the plot\n",
    "ax.legend(handles=legend_handles, prop={'size': 30})  \n",
    "ax.grid()\n",
    "fig.show()\n",
    "fig.savefig(\"./figures/dimension_reduction/t-SNE analysis_with circle.png\", dpi=300)"
   ]
  },
  {
   "cell_type": "code",
   "execution_count": null,
   "metadata": {},
   "outputs": [],
   "source": [
    "targets = ['AF2']\n",
    "colors = [  '#D5D6BF']\n",
    "regions = [\n",
    "    {'center': (-50,60), 'radius':  5,'label': 1},\n",
    "    {'center': (85, 73.5), 'radius':  5,'label': 2},\n",
    "    {'center': (49, -13), 'radius':  5,'label': 3},\n",
    "    {'center': (11, -109), 'radius':  2,'label': 4},\n",
    "    {'center': (20.5, -112), 'radius':  1.5,'label': 5},\n",
    "    \n",
    "    {'center': (-95, 20), 'radius':  5,'label': 6},\n",
    "    {'center': (1, 17), 'radius':  5,'label': 7},\n",
    "    {'center': (45, 60), 'radius':  5,'label': 8},\n",
    "    {'center': (33, -105.5), 'radius':  1.5,'label': 9},\n",
    "    {'center': (77, -83), 'radius':  6,'label': 10},\n",
    "]\n",
    "legend_handles = [Patch(facecolor=color, edgecolor=color, label=str(target), linewidth=1, alpha=0.8) for target, color in zip(targets, colors)]\n"
   ]
  },
  {
   "cell_type": "code",
   "execution_count": null,
   "metadata": {},
   "outputs": [],
   "source": [
    "fig = plt.figure(figsize = (15,15))\n",
    "ax = fig.add_subplot(1,1,1) \n",
    "\n",
    "ax.set_xlabel('t-SNE 1', fontsize = 20)\n",
    "ax.set_ylabel('t-SNE 2', fontsize = 20)\n",
    "ax.set_title('t-SNE', fontsize = 30)\n",
    "ax.set_xticks(np.arange(-130, 130, 20))\n",
    "ax.set_yticks(np.arange(-130, 130, 20))\n",
    "\n",
    "#targets = ['AF2', 'PDB', 'Pisces']\n",
    "#colors = [  '#D5D6BF','#B87C1B','#6279A2']\n",
    "\n",
    "for target, color in zip(targets,colors):\n",
    "    indicesToKeep = (finalDf['label_1'] == target) \n",
    "    ax.scatter(finalDf.loc[indicesToKeep, 'Dimension 1' ]\n",
    "               , finalDf.loc[indicesToKeep, 'Dimension 2']\n",
    "               , c = color\n",
    "               , s = 5\n",
    "               , alpha=0.8)\n",
    "\n",
    "for region in regions:\n",
    "    circle = Circle(region['center'], region['radius'], edgecolor='red', facecolor='none', linewidth=2)\n",
    "    ax.add_patch(circle)\n",
    "    label_x = region['center'][0] + region['radius'] + 0.01  # Adjust the '5' for the desired offset\n",
    "    label_y = region['center'][1]\n",
    "    ax.annotate(str(region['label']), (label_x, label_y), fontsize=30, ha='left', va='center')\n",
    "    \n",
    "\n",
    "ax.legend(handles=legend_handles, prop={'size': 30})  \n",
    "ax.grid()\n",
    "fig.savefig(\"./figures/dimension_reduction/t-SNE-CLEAN analysis.png\", dpi=300)"
   ]
  },
  {
   "cell_type": "code",
   "execution_count": null,
   "metadata": {},
   "outputs": [],
   "source": [
    "#find interesting area in the plot \n",
    "def areafinder(df, min_1, max_1, min_2, max_2):\n",
    "    list_of_structures = []\n",
    "    for index, row in df.iterrows():\n",
    "        if min_1 < row[0] < max_1 and min_2 < row[1] < max_2:\n",
    "            list_of_structures.append(index)\n",
    "\n",
    "    list_of_uniprot_ids = []\n",
    "    for item in list_of_structures:\n",
    "        uniprot_id = uniprotidfinder(item)\n",
    "        list_of_uniprot_ids.append(uniprot_id)\n",
    "\n",
    "    return list_of_uniprot_ids\n",
    "def uniprotidfinder(index):\n",
    "    return wholedata_label.loc[index, ['Entry']]"
   ]
  },
  {
   "cell_type": "code",
   "execution_count": null,
   "metadata": {},
   "outputs": [],
   "source": [
    "area_2 = areafinder(reduced_data_df_num, 80,90 ,70,75)\n",
    "a = random.sample(area_2, 1000)\n",
    "a"
   ]
  },
  {
   "cell_type": "code",
   "execution_count": null,
   "metadata": {},
   "outputs": [],
   "source": [
    "a"
   ]
  },
  {
   "cell_type": "code",
   "execution_count": null,
   "metadata": {},
   "outputs": [],
   "source": [
    "area_1 = areafinder(reduced_data_df_num, -55,-45 ,55,65)\n",
    "area_2 = areafinder(reduced_data_df_num, 80,90 ,70,75)\n",
    "area_3 = areafinder(reduced_data_df_num, 44,54 ,-18,-8)\n",
    "area_4 = areafinder(reduced_data_df_num, 9,13 ,-112,-108)\n",
    "area_5 = areafinder(reduced_data_df_num, 19,22 ,-113,-111)\n",
    "area_6 = areafinder(reduced_data_df_num, -100,-90 ,15,25)\n",
    "area_7 = areafinder(reduced_data_df_num, -4,6 ,12,22)\n",
    "area_8 = areafinder(reduced_data_df_num, 40,50 ,55,65)\n",
    "area_9 = areafinder(reduced_data_df_num, 31,35 ,-107,-104)\n",
    "area_10 = areafinder(reduced_data_df_num, 75,80 ,-86,-80)"
   ]
  },
  {
   "cell_type": "code",
   "execution_count": null,
   "metadata": {},
   "outputs": [],
   "source": [
    "b"
   ]
  },
  {
   "cell_type": "code",
   "execution_count": null,
   "metadata": {},
   "outputs": [],
   "source": [
    "merged_list = []\n",
    "for area in range(1, 11):\n",
    "    area_list = eval('area_' + str(area))\n",
    "    for row in area_list:\n",
    "        row['Origin'] = 'Area ' + str(area)\n",
    "        merged_list.append(row)\n",
    "\n",
    "# Create a DataFrame from the merged list\n",
    "df = pd.DataFrame(merged_list)\n",
    "df.head"
   ]
  },
  {
   "cell_type": "code",
   "execution_count": null,
   "metadata": {},
   "outputs": [],
   "source": [
    "merged_df = pd.merge(df, a, on='Entry', how='inner')\n",
    "merged_df.to_csv('CLEAN_af2_test_data_witharea.csv', sep='\\t', index=False)\n",
    "merged_df = merged_df.drop(columns=['Origin'])\n",
    "merged_df.to_csv('CLEAN_af2_test_data.csv', sep='\\t', index=False)"
   ]
  },
  {
   "cell_type": "markdown",
   "metadata": {},
   "source": [
    "label t-sne with 2nd ss with cath"
   ]
  },
  {
   "cell_type": "code",
   "execution_count": null,
   "metadata": {},
   "outputs": [],
   "source": [
    "reduced_data_df_num_wt_ss = pd.read_csv ('./reduced_data/tSNE_reduced_data_wt_ss.csv')\n",
    "wholedata = pd.read_csv('./core_database/destress_wholedata_labelled_as_rd.csv')\n",
    "wholedata_1 = wholedata.copy()\n",
    "wholedata_1['label_4'] = wholedata_1['label_3'].str[:1]"
   ]
  },
  {
   "cell_type": "code",
   "execution_count": null,
   "metadata": {},
   "outputs": [],
   "source": [
    "cathzz =wholedata_1.loc[:,['label_4']]\n",
    "cathzz.reset_index(drop=True, inplace=True)\n",
    "finalDf_num_cath = pd.concat([reduced_data_df_num_wt_ss, cathzz], axis = 1)\n",
    "finalDf_num_cath.dropna(inplace=True)"
   ]
  },
  {
   "cell_type": "code",
   "execution_count": null,
   "metadata": {},
   "outputs": [],
   "source": [
    "from matplotlib.patches import Patch\n",
    "fig = plt.figure(figsize=(35, 35))\n",
    "ax = fig.add_subplot(1, 1, 1)\n",
    "\n",
    "ax.set_xlabel('t-SNE 1', fontsize=20)\n",
    "ax.set_ylabel('t-SNE 2', fontsize=20)\n",
    "ax.set_title('t-SNE analysis results (with 2nd structure indexes)  labeled with structural category', fontsize=35)\n",
    "ax.set_xticks(np.arange(-150, 150, 5))\n",
    "ax.set_yticks(np.arange(-150, 150, 5))\n",
    "\n",
    "targets = ['1','2','4','6']#[1.0, 2.0, 3.0, 4.0, 5.0, 6.0]\n",
    "colors = ['#4575b4',  '#fee090',  '#fc8d59', '#d73027']#'#e0f3f8',\n",
    "for target, color in zip(targets, colors):\n",
    "    indicesToKeep = finalDf_num_cath['label_4'] == target\n",
    "    ax.scatter(finalDf_num_cath.loc[indicesToKeep, 'Dimension 1'],\n",
    "               finalDf_num_cath.loc[indicesToKeep, 'Dimension 2'],\n",
    "               c=color,\n",
    "               s=5,\n",
    "               alpha=0.8)\n",
    "ax.grid()\n",
    "# Create custom legend handles\n",
    "legend_handles = [Patch(facecolor=color, edgecolor=color, label=str(target), linewidth=1, alpha=0.8) for target, color in zip(targets, colors)]\n",
    "\n",
    "# Add the custom legend to the plot\n",
    "ax.legend(handles=legend_handles, prop={'size': 30})\n",
    "#plt.savefig('./figures/dimension_reduction/t-SNE result with really ss indexes labeled by CATH.png', dpi=300)\n",
    "    "
   ]
  },
  {
   "cell_type": "markdown",
   "metadata": {},
   "source": [
    "t-SNE with ss labeled with pI\n"
   ]
  },
  {
   "cell_type": "code",
   "execution_count": null,
   "metadata": {},
   "outputs": [],
   "source": [
    "reduced_data_df_num_wt_ss = pd.read_csv ('./reduced_data/tSNE_reduced_data_wt_ss.csv')\n",
    "wholedata = pd.read_csv('./core_database/destress_wholedata_labelled_as_rd.csv')\n",
    "wholedata_1 = wholedata.copy()\n",
    "wholedata_1['label_4'] = wholedata_1['label_3'].str[:1]"
   ]
  },
  {
   "cell_type": "code",
   "execution_count": null,
   "metadata": {},
   "outputs": [],
   "source": [
    "# Define the bins and labels\n",
    "bins = [float('-inf'), 6.5,8.4, float('inf')]\n",
    "labels = ['pI<6','6<=pI<=8','pI>8']\n",
    "# Categorize the data\n",
    "wholedata_1['category'] = pd.cut(wholedata['isoelectric_point'], bins=bins, labels=labels)\n",
    "\n",
    "#concatenate the data and label into one dataframe\n",
    "z_1 =wholedata_1.loc[:,['category']]\n",
    "z_1.reset_index(drop=True, inplace=True)\n",
    "finalDf_2d_1 = pd.concat([reduced_data_df_num_wt_ss, z_1], axis = 1)"
   ]
  },
  {
   "cell_type": "code",
   "execution_count": null,
   "metadata": {},
   "outputs": [],
   "source": [
    "from matplotlib.patches import Patch\n",
    "fig = plt.figure(figsize=(20, 20))\n",
    "ax = fig.add_subplot(1, 1, 1)\n",
    "\n",
    "ax.set_xlabel('t-SNE 1', fontsize=20)\n",
    "ax.set_ylabel('t-SNE 2', fontsize=20)\n",
    "ax.set_title('t-SNE analysis results labeled with categorical pI', fontsize=35)\n",
    "ax.set_xticks(np.arange(-150, 150, 5))\n",
    "ax.set_yticks(np.arange(-150, 150, 5))\n",
    "\n",
    "targets = ['pI<6','6<=pI<=8','pI>8']#[1.0, 2.0, 3.0, 4.0, 5.0, 6.0]\n",
    "colors = [ '#D73027','#FFFFBF','#ABD9E9']\n",
    "for target, color in zip(targets, colors):\n",
    "    indicesToKeep = (finalDf_2d_1['category'] == target)\n",
    "    ax.scatter(finalDf_2d_1.loc[indicesToKeep, 'Dimension 1'],\n",
    "               finalDf_2d_1.loc[indicesToKeep, 'Dimension 2'],\n",
    "               c=color,\n",
    "               s=5,\n",
    "               alpha=0.5)\n",
    "ax.grid()\n",
    "# Create custom legend handles\n",
    "legend_handles = [Patch(facecolor=color, edgecolor=color, label=str(target), linewidth=1, alpha=0.5) for target, color in zip(targets, colors)]\n",
    "\n",
    "# Add the custom legend to the plot\n",
    "ax.legend(handles=legend_handles, prop={'size': 30},loc='upper right')\n",
    "plt.savefig('./figures/dimension_reduction/t-SNE analysis results labeled with categorical pI.png', dpi=300)\n"
   ]
  },
  {
   "cell_type": "code",
   "execution_count": null,
   "metadata": {},
   "outputs": [],
   "source": [
    "wholedata['composition_hydrophobic'].describe()"
   ]
  },
  {
   "cell_type": "code",
   "execution_count": null,
   "metadata": {},
   "outputs": [],
   "source": [
    "# Define the bins and labels\n",
    "bins = [float('-inf'), 0.36,0.43, float('inf')]\n",
    "labels = ['hydrophobic residue(<36%)','hydrophobic residue(36-43%)','hydrophobic residue(>43%)']\n",
    "# Categorize the data\n",
    "wholedata_1['category'] = pd.cut(wholedata['composition_hydrophobic'], bins=bins, labels=labels)\n",
    "\n",
    "#concatenate the data and label into one dataframe\n",
    "z_1 =wholedata_1.loc[:,['category']]\n",
    "z_1.reset_index(drop=True, inplace=True)\n",
    "finalDf_2d_1 = pd.concat([reduced_data_df_num_wt_ss, z_1], axis = 1)"
   ]
  },
  {
   "cell_type": "code",
   "execution_count": null,
   "metadata": {},
   "outputs": [],
   "source": [
    "from matplotlib.patches import Patch\n",
    "fig = plt.figure(figsize=(20, 20))\n",
    "ax = fig.add_subplot(1, 1, 1)\n",
    "\n",
    "ax.set_xlabel('t-SNE 1', fontsize=20)\n",
    "ax.set_ylabel('t-SNE 2', fontsize=20)\n",
    "ax.set_title('t-SNE analysis results labeled with categorical hydrophobic fitness', fontsize=35)\n",
    "ax.set_xticks(np.arange(-150, 150, 5))\n",
    "ax.set_yticks(np.arange(-150, 150, 5))\n",
    "\n",
    "targets = ['hydrophobic residue(<36%)','hydrophobic residue(36-43%)','hydrophobic residue(>43%)']\n",
    "colors = [ '#D73027','#FFFFBF','#ABD9E9']\n",
    "for target, color in zip(targets, colors):\n",
    "    indicesToKeep = (finalDf_2d_1['category'] == target)\n",
    "    ax.scatter(finalDf_2d_1.loc[indicesToKeep, 'Dimension 1'],\n",
    "               finalDf_2d_1.loc[indicesToKeep, 'Dimension 2'],\n",
    "               c=color,\n",
    "               s=5,\n",
    "               alpha=0.5)\n",
    "ax.grid()\n",
    "# Create custom legend handles\n",
    "legend_handles = [Patch(facecolor=color, edgecolor=color, label=str(target), linewidth=1, alpha=0.5) for target, color in zip(targets, colors)]\n",
    "\n",
    "# Add the custom legend to the plot\n",
    "ax.legend(handles=legend_handles, prop={'size': 30},loc='upper right')\n",
    "plt.savefig('./figures/dimension_reduction/t-SNE analysis results labeled with categorical hydrophobic fitness.png', dpi=300)\n"
   ]
  },
  {
   "cell_type": "markdown",
   "metadata": {},
   "source": [
    "t-SNE without ss_prop"
   ]
  },
  {
   "cell_type": "code",
   "execution_count": null,
   "metadata": {},
   "outputs": [],
   "source": [
    "wholedata_num_wto_ss = wholedata_num[['hydrophobic_fitness', 'isoelectric_point', 'rosetta_total',\n",
    "       'rosetta_fa_rep', 'rosetta_fa_intra_rep', 'rosetta_lk_ball_wtd',\n",
    "       'rosetta_fa_intra_sol_xover4', 'rosetta_hbond_lr_bb',\n",
    "       'rosetta_hbond_sr_bb', 'rosetta_hbond_sc', 'rosetta_pro_close',\n",
    "        'aggrescan3d_avg_value',\n",
    "       'aggrescan3d_max_value']]\n",
    "wholedata_num_wto_ss"
   ]
  },
  {
   "cell_type": "code",
   "execution_count": null,
   "metadata": {
    "collapsed": true
   },
   "outputs": [],
   "source": [
    "# Choose the number of dimensions you want to reduce your data to (usually 2 or 3)\n",
    "target_dimensions = 2\n",
    "perplexity_value = 50\n",
    "\n",
    "wholedata_num_wto_ss = MinMaxScaler().fit_transform(wholedata_num_wto_ss)\n",
    "\n",
    "# Create a t-SNE object with the desired parameters\n",
    "tsne_wto_ss = TSNE(n_components=target_dimensions, perplexity=perplexity_value, random_state=42)\n",
    "\n",
    "# Fit the t-SNE model on the data and transform it\n",
    "reduced_data_wto_ss = tsne_wto_ss.fit_transform(wholedata_num_wto_ss)\n",
    "\n",
    "reduced_data_df_wto_ss = pd. DataFrame (reduced_data_wto_ss, columns = ['Dimension 1','Dimension 2'])\n",
    "reduced_data_df_wto_ss.to_csv ('./reduced_data/tSNE_reduced_data_wto_ss.csv')"
   ]
  },
  {
   "cell_type": "code",
   "execution_count": null,
   "metadata": {},
   "outputs": [],
   "source": [
    "reduced_data_df_wto_ss = pd.read_csv ('./reduced_data/tSNE_reduced_data_wto_ss.csv', index_col = 0)\n",
    "from matplotlib.patches import Patch\n",
    "z =wholedata_label.loc[:,['label_1','label_2']]\n",
    "z.reset_index(drop=True, inplace=True)\n",
    "finalDf = pd.concat([reduced_data_df_wto_ss, z], axis = 1)\n",
    "\n",
    "fig = plt.figure(figsize = (35,35))\n",
    "ax = fig.add_subplot(1,1,1) \n",
    "\n",
    "ax.set_xlabel('t-SNE 1', fontsize = 20)\n",
    "ax.set_ylabel('t-SNE 2', fontsize = 20)\n",
    "ax.set_title('t-SNE analysis without 2nd ss index(Spearman)', fontsize = 30)\n",
    "ax.set_xticks(np.arange(-120, 120, 5))\n",
    "ax.set_yticks(np.arange(-120, 120, 5))\n",
    "\n",
    "targets = ['AF2', 'PDB', 'Pisces']\n",
    "colors = [  '#D5D6BF','#B87C1B','#6279A2']\n",
    "for target, color in zip(targets,colors):\n",
    "    indicesToKeep = (finalDf['label_1'] == target) | (finalDf['label_2'] == target)\n",
    "    ax.scatter(finalDf.loc[indicesToKeep, 'Dimension 1' ]\n",
    "               , finalDf.loc[indicesToKeep, 'Dimension 2']\n",
    "               , c = color\n",
    "               , s = 5\n",
    "               , alpha=0.8)\n",
    "    \n",
    "legend_handles = [Patch(facecolor=color, edgecolor=color, label=str(target), linewidth=1, alpha=0.8) for target, color in zip(targets, colors)]\n",
    "\n",
    "# Add the custom legend to the plot\n",
    "ax.legend(handles=legend_handles, prop={'size': 30})  \n",
    "\n",
    "ax.grid()\n",
    "fig.savefig(\"./figures/dimension_reduction/t-SNE analysis without 2nd ss index(Spearman).png\", dpi=300)"
   ]
  },
  {
   "cell_type": "markdown",
   "metadata": {},
   "source": [
    "label the t-SNE plot without ss by CATH category"
   ]
  },
  {
   "cell_type": "code",
   "execution_count": null,
   "metadata": {},
   "outputs": [],
   "source": [
    "reduced_data_df_num = pd.read_csv ('./reduced_data/tSNE_reduced_data_wto_ss.csv', index_col = 0)\n",
    "wholedata = pd.read_csv('./core_database/destress_wholedata_labelled_as_rd.csv')\n",
    "wholedata_1 = wholedata.copy()\n",
    "wholedata_1['label_4'] = wholedata_1['label_3'].str[:1]"
   ]
  },
  {
   "cell_type": "code",
   "execution_count": null,
   "metadata": {},
   "outputs": [],
   "source": [
    "cathz =wholedata_1.loc[:,['label_4']]\n",
    "cathz.reset_index(drop=True, inplace=True)\n",
    "finalDf_num_cath = pd.concat([reduced_data_df_num, cathz], axis = 1)\n",
    "finalDf_num_cath.dropna(inplace=True)"
   ]
  },
  {
   "cell_type": "code",
   "execution_count": null,
   "metadata": {},
   "outputs": [],
   "source": [
    "from matplotlib.patches import Patch\n",
    "# Assuming you have the finalDf DataFrame with the 'label_4' column\n",
    "fig = plt.figure(figsize=(35, 35))\n",
    "ax = fig.add_subplot(1, 1, 1)\n",
    "\n",
    "ax.set_xlabel('t-SNE 1', fontsize=20)\n",
    "ax.set_ylabel('t-SNE 2', fontsize=20)\n",
    "ax.set_title('t-SNE analysis results (without 2nd structure indexes)  labeled with structural category', fontsize=35)\n",
    "ax.set_xticks(np.arange(-150, 150, 5))\n",
    "ax.set_yticks(np.arange(-150, 150, 5))\n",
    "\n",
    "targets = ['1','2','3','4','6']#[1.0, 2.0, 3.0, 4.0, 5.0, 6.0]\n",
    "colors = ['#4575b4',  '#fee090', '#e0f3f8', '#fc8d59', '#d73027']\n",
    "for target, color in zip(targets, colors):\n",
    "    indicesToKeep = finalDf_num_cath['label_4'] == target\n",
    "    ax.scatter(finalDf_num_cath.loc[indicesToKeep, 'Dimension 1'],\n",
    "               finalDf_num_cath.loc[indicesToKeep, 'Dimension 2'],\n",
    "               c=color,\n",
    "               s=5,\n",
    "               alpha=0.8)\n",
    "ax.grid()\n",
    "# Create custom legend handles\n",
    "legend_handles = [Patch(facecolor=color, edgecolor=color, label=str(target), linewidth=1, alpha=0.8) for target, color in zip(targets, colors)]\n",
    "\n",
    "# Add the custom legend to the plot\n",
    "ax.legend(handles=legend_handles, prop={'size': 30})\n",
    "plt.savefig('./figures/dimension_reduction/t-SNE result with ss indexes labeled by CATH.png', dpi=300)\n"
   ]
  },
  {
   "cell_type": "markdown",
   "metadata": {},
   "source": [
    "another thing"
   ]
  },
  {
   "cell_type": "code",
   "execution_count": null,
   "metadata": {
    "scrolled": true
   },
   "outputs": [],
   "source": [
    "z =wholedata_2.loc[:,['label_1','label_2']]\n",
    "z.reset_index(drop=True, inplace=True)\n",
    "finalDf = pd.concat([reduced_data_df, z], axis = 1)\n",
    "\n",
    "fig = plt.figure(figsize = (35,35))\n",
    "ax = fig.add_subplot(1,1,1) \n",
    "\n",
    "ax.set_xlabel('t-SNE 1', fontsize = 15)\n",
    "ax.set_ylabel('t-SNE 2', fontsize = 15)\n",
    "ax.set_title('t-SNE analysis', fontsize = 20)\n",
    "ax.set_xticks(np.arange(-120, 120, 5))\n",
    "ax.set_yticks(np.arange(-120, 120, 5))\n",
    "\n",
    "targets = ['AF2', 'PDB', 'Pisces']\n",
    "colors = [  '#D5D6BF','#B87C1B','#6279A2']\n",
    "for target, color in zip(targets,colors):\n",
    "    indicesToKeep = (finalDf['label_1'] == target) | (finalDf['label_2'] == target)\n",
    "    ax.scatter(finalDf.loc[indicesToKeep, 'Dimension 1' ]\n",
    "               , finalDf.loc[indicesToKeep, 'Dimension 2']\n",
    "               , c = color\n",
    "               , s = 5\n",
    "               , alpha=0.8)\n",
    "   \n",
    "ax.legend(targets,prop={'size': 30})\n",
    "ax.grid()\n",
    "fig.savefig(\"t-SNE analysis.png\", dpi=300)"
   ]
  },
  {
   "cell_type": "markdown",
   "metadata": {},
   "source": []
  },
  {
   "cell_type": "markdown",
   "metadata": {},
   "source": [
    "color the plot accorrding to the structural group"
   ]
  },
  {
   "cell_type": "markdown",
   "metadata": {},
   "source": [
    "4GXV:anti-influenza virus antibody 1F1\n",
    "5LMW:Llama nanobody PorM_02\n",
    "3EYF:antibody 8f9 plus gB peptide"
   ]
  },
  {
   "cell_type": "code",
   "execution_count": null,
   "metadata": {},
   "outputs": [],
   "source": [
    "area_1 = areafinder(reduced_data_df, -65,-55 ,-45,-38)\n",
    "area_1\n",
    "sampled_area_1 = random.sample(area_1, 10)\n",
    "print(sampled_area_1)\n"
   ]
  },
  {
   "cell_type": "markdown",
   "metadata": {},
   "source": [
    "t-SNE without ss_prop"
   ]
  },
  {
   "cell_type": "code",
   "execution_count": null,
   "metadata": {},
   "outputs": [],
   "source": [
    "#generate a dataframe without ss indexes\n",
    "wholedata_wto_ss = wholedata.copy()\n",
    "wholedata_wto_ss. drop(['ss_prop_hbonded_turn', 'ss_prop_bend', 'ss_prop_loop'],axis=1, inplace =True)\n",
    "\n",
    "# Choose the number of dimensions you want to reduce your data to (usually 2 or 3)\n",
    "target_dimensions = 2\n",
    "perplexity_value = 50\n",
    "\n",
    "wholedata_wto_ss = MinMaxScaler().fit_transform(wholedata_wto_ss)\n",
    "\n",
    "# Create a t-SNE object with the desired parameters\n",
    "tsne = TSNE(n_components=target_dimensions, perplexity=perplexity_value, random_state=42)\n",
    "\n",
    "# Fit the t-SNE model on the data and transform it\n",
    "reduced_data_wto_ss = tsne.fit_transform(wholedata_wto_ss)\n",
    "\n",
    "reduced_data_wto_ss = pd. DataFrame (reduced_data_wto_ss, columns = ['Dimension 1','Dimension 2'])\n",
    "reduced_data_wto_ss.to_csv ('tSNE_reduced_data_without_ss.csv')"
   ]
  },
  {
   "cell_type": "code",
   "execution_count": null,
   "metadata": {},
   "outputs": [],
   "source": [
    "z =wholedata_name_copy.loc[:,['label_4']]\n",
    "z.reset_index(drop=True, inplace=True)\n",
    "finalDf = pd.concat([reduced_data_wto_ss, z], axis = 1)\n",
    "finalDf.dropna(inplace=True)\n",
    "# Assuming you have the finalDf DataFrame with the 'label_4' column\n",
    "\n",
    "fig = plt.figure(figsize=(35, 35))\n",
    "ax = fig.add_subplot(1, 1, 1)\n",
    "\n",
    "ax.set_xlabel('t-SNE 1', fontsize=15)\n",
    "ax.set_ylabel('t-SNE 2', fontsize=15)\n",
    "ax.set_title('t-SNE analysis', fontsize=20)\n",
    "ax.set_xticks(np.arange(-120, 120, 5))\n",
    "ax.set_yticks(np.arange(-120, 120, 5))\n",
    "\n",
    "targets = [1.0, 2.0, 3.0, 4.0, 5.0, 6.0]\n",
    "colors = ['#66cdaa', '#ffa500', '#00ff00', '#0000ff', '#1e90ff', '#ff1493']\n",
    "for target, color in zip(targets, colors):\n",
    "    indicesToKeep = finalDf['label_4'] == target\n",
    "    ax.scatter(finalDf.loc[indicesToKeep, 'Dimension 1'],\n",
    "               finalDf.loc[indicesToKeep, 'Dimension 2'],\n",
    "               c=color,\n",
    "               s=5,\n",
    "               alpha=0.8)\n",
    "\n",
    "\n",
    "ax.grid()\n",
    "# Create custom legend handles\n",
    "legend_handles = [Patch(facecolor=color, edgecolor=color, label=str(target), linewidth=1, alpha=0.8) for target, color in zip(targets, colors)]\n",
    "\n",
    "# Add the custom legend to the plot\n",
    "ax.legend(handles=legend_handles, prop={'size': 30})\n",
    "\n"
   ]
  },
  {
   "cell_type": "code",
   "execution_count": null,
   "metadata": {},
   "outputs": [],
   "source": [
    "z =wholedata_2.loc[:,['label_1','label_2']]\n",
    "z.reset_index(drop=True, inplace=True)\n",
    "finalDf = pd.concat([reduced_data_wto_ss, z], axis = 1)\n",
    "\n",
    "fig = plt.figure(figsize = (20,20))\n",
    "ax = fig.add_subplot(1,1,1) \n",
    "\n",
    "ax.set_xlabel('t-SNE 1', fontsize = 15)\n",
    "ax.set_ylabel('t-SNE 2', fontsize = 15)\n",
    "ax.set_title('t-SNE analysis', fontsize = 20)\n",
    "ax.set_xticks(np.arange(-120, 120, 5))\n",
    "ax.set_yticks(np.arange(-120, 120, 5))\n",
    "\n",
    "targets = [ 'PDB', 'Pisces','AF2']\n",
    "colors = ['#B87C1B','#6279A2','#D5D6BF']\n",
    "for target, color in zip(targets,colors):\n",
    "    indicesToKeep = (finalDf['label_1'] == target) | (finalDf['label_2'] == target)\n",
    "    ax.scatter(finalDf.loc[indicesToKeep, 'Dimension 1' ]\n",
    "               , finalDf.loc[indicesToKeep, 'Dimension 2']\n",
    "               , c = color\n",
    "               , s = 5\n",
    "               , alpha=0.8)\n",
    "   \n",
    "ax.legend(targets,prop={'size': 30})\n",
    "ax.grid()\n",
    "#fig.savefig(\"t-SNE analysis without ss1.png\", dpi=300)"
   ]
  },
  {
   "cell_type": "code",
   "execution_count": null,
   "metadata": {},
   "outputs": [],
   "source": [
    "#find interesting area in the plot \n",
    "def areafinder(df, min_1, max_1, min_2, max_2):\n",
    "    list_of_structures = []\n",
    "    for index, row in df.iterrows():\n",
    "        if min_1 < row[0] < max_1 and min_2 < row[1] < max_2:\n",
    "            list_of_structures.append(index)\n",
    "\n",
    "    list_of_uniprot_ids = []\n",
    "    for item in list_of_structures:\n",
    "        uniprot_id = uniprotidfinder(item)\n",
    "        list_of_uniprot_ids.append(uniprot_id)\n",
    "\n",
    "    return list_of_uniprot_ids\n",
    "def uniprotidfinder(index):\n",
    "    return wholedata_name.loc[index, 'UniProt_ID']"
   ]
  },
  {
   "cell_type": "code",
   "execution_count": null,
   "metadata": {},
   "outputs": [],
   "source": [
    "area_1 = areafinder(reduced_data_df, -80,-70 ,-90,-80)\n",
    "area_2 = areafinder(reduced_data_df, 40,50 ,-30,-20)\n",
    "area_3 = areafinder(reduced_data_df, 12,27 ,-18,-5)\n",
    "area_4 = areafinder(reduced_data_df, -50,-20 ,25,55)\n",
    "area_5 = areafinder(reduced_data_df, -67,-57 ,-45,-37)\n"
   ]
  },
  {
   "cell_type": "code",
   "execution_count": null,
   "metadata": {},
   "outputs": [],
   "source": [
    "if (filtered_df_1['label_1'] == 'PDB').all():\n",
    "    print ('yes')\n",
    "else:\n",
    "    print ('no')\n",
    "        \n",
    "filtered_indices = areafinder(finalDf, -80, -70, -90, -80)\n",
    "filtered_df_1 = finalDf.iloc[filtered_indices]"
   ]
  },
  {
   "cell_type": "code",
   "execution_count": null,
   "metadata": {},
   "outputs": [],
   "source": [
    "sampled_area_5 = random.sample(area_5, 10)\n",
    "print(sampled_area_5)"
   ]
  },
  {
   "cell_type": "code",
   "execution_count": null,
   "metadata": {},
   "outputs": [],
   "source": [
    "\n",
    "def get_domain_from_uniprot(uniprot_id):\n",
    "    url = f\"https://www.uniprot.org/uniprot/{uniprot_id}.xml\"\n",
    "    response = requests.get(url, timeout=30)\n",
    "\n",
    "    if response.status_code == 200:\n",
    "        soup = BeautifulSoup(response.content, \"xml\")\n",
    "        lineage = soup.find(\"lineage\")\n",
    "        if lineage:\n",
    "            for taxon in lineage.find_all(\"taxon\"):\n",
    "                domain = taxon.get_text()\n",
    "                if domain in [\"Eukaryota\", \"Bacteria\", \"Archaea\", \"Viruses\"]:\n",
    "                    return domain\n",
    "    return None\n",
    "\n",
    "def fetch_domains(uniprot_ids, max_workers):\n",
    "    with ThreadPoolExecutor(max_workers=max_workers) as executor:\n",
    "        results = list(executor.map(get_domain_from_uniprot, uniprot_ids))\n",
    "    return results\n",
    "\n",
    "\n",
    "#uniprot_ids = area_2 af2_random [\"UniProt_ID\"].tolist()\n",
    "#domains = fetch_domains(uniprot_ids, max_workers=10)  # Adjust max_workers as needed\n",
    "#af2_random[\"Domain\"] = domains"
   ]
  },
  {
   "cell_type": "code",
   "execution_count": null,
   "metadata": {},
   "outputs": [],
   "source": [
    "#remove all the id from pdb list and only keep af2\n",
    "filtered_area_2 = [s for s in area_2 if len(s) != 4]"
   ]
  },
  {
   "cell_type": "code",
   "execution_count": null,
   "metadata": {},
   "outputs": [],
   "source": [
    "domains =  fetch_domains(filtered_area_2, max_workers=20) "
   ]
  },
  {
   "cell_type": "code",
   "execution_count": null,
   "metadata": {},
   "outputs": [],
   "source": [
    "len (domains)"
   ]
  },
  {
   "cell_type": "code",
   "execution_count": null,
   "metadata": {},
   "outputs": [],
   "source": [
    "unique_strings_count = {}\n",
    "\n",
    "for item in domains:\n",
    "    if isinstance(item, str):\n",
    "        if item not in unique_strings_count:\n",
    "            unique_strings_count[item] = 1\n",
    "        else:\n",
    "            unique_strings_count[item] += 1\n",
    "\n",
    "print(unique_strings_count)\n"
   ]
  },
  {
   "cell_type": "code",
   "execution_count": null,
   "metadata": {},
   "outputs": [],
   "source": []
  },
  {
   "cell_type": "markdown",
   "metadata": {},
   "source": []
  }
 ],
 "metadata": {
  "kernelspec": {
   "display_name": "Python 3 (ipykernel)",
   "language": "python",
   "name": "python3"
  },
  "language_info": {
   "codemirror_mode": {
    "name": "ipython",
    "version": 3
   },
   "file_extension": ".py",
   "mimetype": "text/x-python",
   "name": "python",
   "nbconvert_exporter": "python",
   "pygments_lexer": "ipython3",
   "version": "3.11.1 (v3.11.1:a7a450f84a, Dec  6 2022, 15:24:06) [Clang 13.0.0 (clang-1300.0.29.30)]"
  },
  "vscode": {
   "interpreter": {
    "hash": "1a1af0ee75eeea9e2e1ee996c87e7a2b11a0bebd85af04bb136d915cefc0abce"
   }
  }
 },
 "nbformat": 4,
 "nbformat_minor": 2
}
